{
 "cells": [
  {
   "cell_type": "markdown",
   "metadata": {},
   "source": [
    "# Introduction\n",
    "\n",
    "This project is about analyzing app data from Google Play and Apple App stores. Going through the data will help with what types of apps users gravitate towards.\n",
    "\n",
    "My goal is to use Python and Jupyter Notebook to profile profitable apps.\n",
    "\n",
    "The data for [Google Play][1] and [Apple App Store][2] can be downloaded at Kaggle.\n",
    "\n",
    "[1]:https://www.kaggle.com/lava18/google-play-store-apps\n",
    "[2]:https://www.kaggle.com/ramamet4/app-store-apple-data-set-10k-apps"
   ]
  }
 ],
 "metadata": {
  "kernelspec": {
   "display_name": "Python 3",
   "language": "python",
   "name": "python3"
  },
  "language_info": {
   "codemirror_mode": {
    "name": "ipython",
    "version": 3
   },
   "file_extension": ".py",
   "mimetype": "text/x-python",
   "name": "python",
   "nbconvert_exporter": "python",
   "pygments_lexer": "ipython3",
   "version": "3.7.2"
  }
 },
 "nbformat": 4,
 "nbformat_minor": 2
}
