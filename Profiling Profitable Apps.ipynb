{
 "cells": [
  {
   "cell_type": "markdown",
   "metadata": {},
   "source": [
    "# Introduction\n",
    "\n",
    "This project is about analyzing app data from Google Play and Apple App stores. We'll pretend we're data analysts working for a company building Android and iOS apps in English. Our company only build apps that are free, and revenue comes from in-app ads. \n",
    "\n",
    "We'd like to profile the most profitable apps on the Google Play and Apple App stores Going through the data will help our developers understand what types of apps users gravitate towards.\n",
    "\n",
    "The data for [Google Play][1] and [Apple App Store][2] can be downloaded at Kaggle.\n",
    "\n",
    "[1]:https://www.kaggle.com/lava18/google-play-store-apps\n",
    "[2]:https://www.kaggle.com/ramamet4/app-store-apple-data-set-10k-apps"
   ]
  },
  {
   "cell_type": "markdown",
   "metadata": {},
   "source": [
    "## Opening and Exploring the Data\n",
    "\n",
    "First we open the files and give them corresponding variable names. The header column is separated from the data for quick access. Here we will use the `explore_data()` function for exploration. It prints the rows in the list so they're readable, and finds the number of rows and columns if `rows_and_columns` is `True`. It assumes the input dataset doesn't have a header row.\n",
    "\n",
    "The first few rows of each data set are printed along with the number of rows and columns. We also try and identify some columns that could help with our analysis."
   ]
  },
  {
   "cell_type": "code",
   "execution_count": 66,
   "metadata": {},
   "outputs": [],
   "source": [
    "from csv import reader\n",
    "\n",
    "#Open .csv files\n",
    "file1 = open(\"AppleStore.csv\", encoding='utf8')\n",
    "file2 = open(\"googleplaystore.csv\", encoding='utf8')\n",
    "\n",
    "apple_file = reader(file1)\n",
    "apple_apps_data = list(apple_file) #lists of list\n",
    "\n",
    "google_file = reader(file2)\n",
    "google_apps_data = list(google_file)"
   ]
  },
  {
   "cell_type": "code",
   "execution_count": 67,
   "metadata": {},
   "outputs": [
    {
     "name": "stdout",
     "output_type": "stream",
     "text": [
      "Apple Rows\n",
      "['389801252', 'Instagram', '113954816', 'USD', '0.0', '2161558', '1289', '4.5', '4.0', '10.23', '12+', 'Photo & Video', '37', '0', '29', '1']\n",
      "\n",
      "\n",
      "['529479190', 'Clash of Clans', '116476928', 'USD', '0.0', '2130805', '579', '4.5', '4.5', '9.24.12', '9+', 'Games', '38', '5', '18', '1']\n",
      "\n",
      "\n",
      "Number of rows: 7197\n",
      "Number of columns: 16\n",
      "\n",
      "\n",
      "Google Rows\n",
      "['Coloring book moana', 'ART_AND_DESIGN', '3.9', '967', '14M', '500,000+', 'Free', '0', 'Everyone', 'Art & Design;Pretend Play', 'January 15, 2018', '2.0.0', '4.0.3 and up']\n",
      "\n",
      "\n",
      "['U Launcher Lite – FREE Live Cool Themes, Hide Apps', 'ART_AND_DESIGN', '4.7', '87510', '8.7M', '5,000,000+', 'Free', '0', 'Everyone', 'Art & Design', 'August 1, 2018', '1.2.4', '4.0.3 and up']\n",
      "\n",
      "\n",
      "Number of rows: 10841\n",
      "Number of columns: 13\n"
     ]
    }
   ],
   "source": [
    "#Separating the header from the data set \n",
    "apple_head = apple_apps_data[0]\n",
    "apple_data = apple_apps_data[1:]\n",
    "\n",
    "google_head = google_apps_data[0]\n",
    "google_data = google_apps_data[1:]\n",
    "\n",
    "def explore_data(dataset, start, end, rows_and_columns=False):\n",
    "    dataset_slice = dataset[start:end]\n",
    "    \n",
    "    for row in dataset_slice:\n",
    "        print(row)\n",
    "        print('\\n') # new empty line for separation\n",
    "        \n",
    "    if rows_and_columns:\n",
    "        print(\"Number of rows:\", len(dataset))\n",
    "        print(\"Number of columns:\", len(dataset[0]))\n",
    "\n",
    "#First few rows\n",
    "print(\"Apple Rows\")\n",
    "explore_data(apple_data, 1, 3, True)\n",
    "print('\\n')\n",
    "print(\"Google Rows\")\n",
    "explore_data(google_data, 1, 3, True)"
   ]
  },
  {
   "cell_type": "code",
   "execution_count": 68,
   "metadata": {},
   "outputs": [
    {
     "name": "stdout",
     "output_type": "stream",
     "text": [
      "['id', 'track_name', 'size_bytes', 'currency', 'price', 'rating_count_tot', 'rating_count_ver', 'user_rating', 'user_rating_ver', 'ver', 'cont_rating', 'prime_genre', 'sup_devices.num', 'ipadSc_urls.num', 'lang.num', 'vpp_lic'] \n",
      "\n",
      "['App', 'Category', 'Rating', 'Reviews', 'Size', 'Installs', 'Type', 'Price', 'Content Rating', 'Genres', 'Last Updated', 'Current Ver', 'Android Ver'] \n",
      "\n"
     ]
    }
   ],
   "source": [
    "#Exploring Columns\n",
    "print(apple_head, '\\n')\n",
    "print(google_head, '\\n')"
   ]
  },
  {
   "cell_type": "markdown",
   "metadata": {},
   "source": [
    "The columns we could use need to be related to price (we develop free apps only) and the user ratings for the app. They're detailed in two tables here:\n",
    "\n",
    "| Google Column Name | Description |\n",
    "|:-----------:|:------------:|\n",
    "| 'Rating' | User rating of the app |\n",
    "| 'Installs' | Number of downloads |\n",
    "| 'Price' | Price of the App |\n",
    "| 'Type' | Whether an app is paid or free |\n",
    "\n",
    "| Apple Column Name | Description |\n",
    "|:---------:|:---------:|\n",
    "| 'user_rating' | Average user rating (for all version) |\n",
    "| 'user_rating_ver' | Average user rating (for current version) |\n",
    "| 'Price' | Price of the app |"
   ]
  },
  {
   "cell_type": "markdown",
   "metadata": {},
   "source": [
    "## Wrong Data\n",
    "\n",
    "The discussion section for the Google Play Store data set describes an error for row 10472 (data set without the header). Printing row 10472, the header, and another row show the rating for row 10472 has a rating of 19, which is incorrect, since the maximum rating is 5. Therefore we'll delete this row."
   ]
  },
  {
   "cell_type": "code",
   "execution_count": 69,
   "metadata": {},
   "outputs": [
    {
     "name": "stdout",
     "output_type": "stream",
     "text": [
      "['App', 'Category', 'Rating', 'Reviews', 'Size', 'Installs', 'Type', 'Price', 'Content Rating', 'Genres', 'Last Updated', 'Current Ver', 'Android Ver'] \n",
      "\n",
      "['Life Made WI-Fi Touchscreen Photo Frame', '1.9', '19', '3.0M', '1,000+', 'Free', '0', 'Everyone', '', 'February 11, 2018', '1.0.19', '4.0 and up'] \n",
      "\n",
      "['osmino Wi-Fi: free WiFi', 'TOOLS', '4.2', '134203', '4.1M', '10,000,000+', 'Free', '0', 'Everyone', 'Tools', 'August 7, 2018', '6.06.14', '4.4 and up']\n"
     ]
    }
   ],
   "source": [
    "print(google_head, '\\n') #header\n",
    "print(google_data[10472], '\\n') # incorrect\n",
    "print(google_data[10473]) #correct"
   ]
  },
  {
   "cell_type": "code",
   "execution_count": 70,
   "metadata": {},
   "outputs": [],
   "source": [
    "\n",
    "del google_data[10472] # Running this more than once will delete more data."
   ]
  },
  {
   "cell_type": "markdown",
   "metadata": {},
   "source": [
    "## Duplicate Apps\n",
    "### Part One\n",
    "\n",
    "From the discussion section for the Google Play Store data, duplicate entries for the same applications have been found. An example is Instagram:"
   ]
  },
  {
   "cell_type": "code",
   "execution_count": 71,
   "metadata": {},
   "outputs": [
    {
     "name": "stdout",
     "output_type": "stream",
     "text": [
      "['Instagram', 'SOCIAL', '4.5', '66577313', 'Varies with device', '1,000,000,000+', 'Free', '0', 'Teen', 'Social', 'July 31, 2018', 'Varies with device', 'Varies with device']\n",
      "['Instagram', 'SOCIAL', '4.5', '66577446', 'Varies with device', '1,000,000,000+', 'Free', '0', 'Teen', 'Social', 'July 31, 2018', 'Varies with device', 'Varies with device']\n",
      "['Instagram', 'SOCIAL', '4.5', '66577313', 'Varies with device', '1,000,000,000+', 'Free', '0', 'Teen', 'Social', 'July 31, 2018', 'Varies with device', 'Varies with device']\n",
      "['Instagram', 'SOCIAL', '4.5', '66509917', 'Varies with device', '1,000,000,000+', 'Free', '0', 'Teen', 'Social', 'July 31, 2018', 'Varies with device', 'Varies with device']\n"
     ]
    }
   ],
   "source": [
    "for app in google_data:\n",
    "    name = app[0]\n",
    "    if name == 'Instagram':\n",
    "        print(app)"
   ]
  },
  {
   "cell_type": "markdown",
   "metadata": {},
   "source": [
    "Using a `for` loop we see that there's 1,181 duplicate apps. In this case, getting rid of the duplicate app data will make our analysis more accurate. The duplicates won't be removed randomly. Take the Instagram app duplicates. All the data in each row is the same except for the 4th entry, which the number of user reviews. The different amount of user reviews suggests the data was taken at different times. It seems the higher the number of reviews, the more recent the data is. As such, we will keep the row with the highest amount of user reviews."
   ]
  },
  {
   "cell_type": "code",
   "execution_count": 72,
   "metadata": {},
   "outputs": [
    {
     "name": "stdout",
     "output_type": "stream",
     "text": [
      "Number of duplicate apps: 1181\n",
      "\n",
      "\n",
      "Examples of duplicate apps: ['Quick PDF Scanner + OCR FREE', 'Box', 'Google My Business']\n"
     ]
    }
   ],
   "source": [
    "duplicate = []\n",
    "unique = []\n",
    "\n",
    "for app in google_data:\n",
    "    app_name = app[0]\n",
    "    if app_name in unique:\n",
    "        duplicate.append(app_name)\n",
    "    else:\n",
    "        unique.append(app_name)\n",
    "\n",
    "print('Number of duplicate apps:', len(duplicate))\n",
    "print('\\n')\n",
    "print('Examples of duplicate apps:', duplicate[:3])"
   ]
  },
  {
   "cell_type": "markdown",
   "metadata": {},
   "source": [
    "### Part Two"
   ]
  },
  {
   "cell_type": "markdown",
   "metadata": {},
   "source": [
    "After removing the duplicate Google Play Store apps we should be left with 9659 unique apps."
   ]
  },
  {
   "cell_type": "code",
   "execution_count": 73,
   "metadata": {},
   "outputs": [
    {
     "name": "stdout",
     "output_type": "stream",
     "text": [
      "Length after duplicates: 9659\n"
     ]
    }
   ],
   "source": [
    "print('Length after duplicates:', len(google_data) - 1181)"
   ]
  },
  {
   "cell_type": "markdown",
   "metadata": {},
   "source": [
    "To remove the duplicates, we'll create a dictionary where each key is a unqiue app name and the corresponding dictionary value is the highest number of reviews for that particular app. "
   ]
  },
  {
   "cell_type": "code",
   "execution_count": 74,
   "metadata": {},
   "outputs": [
    {
     "data": {
      "text/plain": [
       "9659"
      ]
     },
     "execution_count": 74,
     "metadata": {},
     "output_type": "execute_result"
    }
   ],
   "source": [
    "reviews_max = {} #empty dictionary\n",
    "\n",
    "for app in google_data:\n",
    "    name = app[0] #app name\n",
    "    n_reviews = float(app[3]) #number of reviews for the app\n",
    "    \n",
    "    if name in reviews_max and reviews_max[name] < n_reviews:\n",
    "        reviews_max[name] = n_reviews\n",
    "\n",
    "    elif name not in reviews_max:\n",
    "        reviews_max[name] = n_reviews\n",
    "\n",
    "len(reviews_max) # is 9659 as expected"
   ]
  },
  {
   "cell_type": "markdown",
   "metadata": {},
   "source": [
    "Here we use the `reviews_max`dictionary to remove the duplicate rows. The list `android_clean` will hold a list of lists of our cleaned data while the `already_added` list helps us keep track of already added apps."
   ]
  },
  {
   "cell_type": "code",
   "execution_count": 75,
   "metadata": {},
   "outputs": [
    {
     "name": "stdout",
     "output_type": "stream",
     "text": [
      "['Photo Editor & Candy Camera & Grid & ScrapBook', 'ART_AND_DESIGN', '4.1', '159', '19M', '10,000+', 'Free', '0', 'Everyone', 'Art & Design', 'January 7, 2018', '1.0.0', '4.0.3 and up']\n",
      "\n",
      "\n",
      "['U Launcher Lite – FREE Live Cool Themes, Hide Apps', 'ART_AND_DESIGN', '4.7', '87510', '8.7M', '5,000,000+', 'Free', '0', 'Everyone', 'Art & Design', 'August 1, 2018', '1.2.4', '4.0.3 and up']\n",
      "\n",
      "\n",
      "['Sketch - Draw & Paint', 'ART_AND_DESIGN', '4.5', '215644', '25M', '50,000,000+', 'Free', '0', 'Teen', 'Art & Design', 'June 8, 2018', 'Varies with device', '4.2 and up']\n",
      "\n",
      "\n",
      "Number of rows: 9659\n",
      "Number of columns: 13\n"
     ]
    }
   ],
   "source": [
    "android_clean = [] #list for new cleaned data set\n",
    "already_added = [] #app names\n",
    "\n",
    "for app in google_data:\n",
    "    name = app[0]\n",
    "    n_reviews = float(app[3])\n",
    "    \n",
    "    if n_reviews == reviews_max[name] and name not in already_added:\n",
    "        android_clean.append(app)\n",
    "        already_added.append(name)\n",
    "\n",
    "explore_data(android_clean,0,3,True)"
   ]
  },
  {
   "cell_type": "markdown",
   "metadata": {},
   "source": [
    "## Removing Non-English Apps\n",
    "### Part One"
   ]
  },
  {
   "cell_type": "markdown",
   "metadata": {},
   "source": [
    "Exploring the data sets long enough, we find that some apps aren't in English:"
   ]
  },
  {
   "cell_type": "code",
   "execution_count": 76,
   "metadata": {},
   "outputs": [
    {
     "name": "stdout",
     "output_type": "stream",
     "text": [
      "爱奇艺PPS -《欢乐颂2》电视剧热播\n",
      "【脱出ゲーム】絶対に最後までプレイしないで 〜謎解き＆ブロックパズル〜\n",
      "\n",
      "\n",
      "中国語 AQリスニング\n",
      "لعبة تقدر تربح DZ\n"
     ]
    }
   ],
   "source": [
    "#Non-English Apps\n",
    "print(apple_data[813][1])\n",
    "print(apple_data[6731][1])\n",
    "print('\\n')\n",
    "print(android_clean[4412][0])\n",
    "print(android_clean[7940][0])"
   ]
  },
  {
   "cell_type": "markdown",
   "metadata": {},
   "source": [
    "Since our company only develops English apps, we'll remove the non-English ones. One way to do this is looking at each app name and find the characters, letters, and symbols that don't belong to the English alphabet.\n",
    "\n",
    "The `ord()` function gives an ASCII demical number corresponding to the input character. For example, the decimal number for `b` is `98`. In ASCII, the characters for English are in the range 0 to 127, so any numbers greater than 127 don't belong to the set of English characters. \n",
    "\n",
    "Using this information, we'll build a function that will iterate through each indivdual character in the app names and check if the number is in the range 0 to 127."
   ]
  },
  {
   "cell_type": "code",
   "execution_count": 77,
   "metadata": {},
   "outputs": [
    {
     "name": "stdout",
     "output_type": "stream",
     "text": [
      "True\n",
      "False\n"
     ]
    }
   ],
   "source": [
    "#function that iterates over input string\n",
    "\n",
    "def English(string):\n",
    "    \n",
    "    for character in string:\n",
    "        if ord(character) > 127:\n",
    "            return False\n",
    "    \n",
    "    return True\n",
    "\n",
    "print(English('Instagram'))\n",
    "print(English('爱奇艺PPS -《欢乐颂2》电视剧热播'))"
   ]
  },
  {
   "cell_type": "markdown",
   "metadata": {},
   "source": [
    "Certain English app names are identified as `False` because they use characters like emojis and other symbols (™) aren't in the ASCII range."
   ]
  },
  {
   "cell_type": "code",
   "execution_count": 78,
   "metadata": {},
   "outputs": [
    {
     "name": "stdout",
     "output_type": "stream",
     "text": [
      "False\n",
      "False\n",
      "\n",
      "\n",
      "8482\n",
      "128540\n"
     ]
    }
   ],
   "source": [
    "print(English('Docs To Go™ Free Office Suite'))\n",
    "print(English('Instachat 😜'))\n",
    "print('\\n')\n",
    "print(ord('™'))\n",
    "print(ord('😜'))"
   ]
  },
  {
   "cell_type": "markdown",
   "metadata": {},
   "source": [
    "Using the current `English` function, we'll lose important data since many English apps will be incorrectly labeled. To reduce this impact, we'll remove an app only if the name has more than 3 non-ASCII characters."
   ]
  },
  {
   "cell_type": "code",
   "execution_count": 79,
   "metadata": {},
   "outputs": [],
   "source": [
    "def English(string):\n",
    "    non_ascii = 0\n",
    "    \n",
    "    for character in string:\n",
    "        if ord(character) > 127:\n",
    "            non_ascii += 1\n",
    "    \n",
    "    if non_ascii > 3:\n",
    "        return False\n",
    "    else:\n",
    "        return True"
   ]
  },
  {
   "cell_type": "code",
   "execution_count": 80,
   "metadata": {},
   "outputs": [
    {
     "name": "stdout",
     "output_type": "stream",
     "text": [
      "True\n",
      "True\n",
      "False\n"
     ]
    }
   ],
   "source": [
    "print(English('Docs To Go™ Free Office Suite'))\n",
    "print(English('Instachat 😜'))\n",
    "print(English('爱奇艺PPS -《欢乐颂2》电视剧热播'))"
   ]
  },
  {
   "cell_type": "code",
   "execution_count": 81,
   "metadata": {},
   "outputs": [
    {
     "name": "stdout",
     "output_type": "stream",
     "text": [
      "['Photo Editor & Candy Camera & Grid & ScrapBook', 'ART_AND_DESIGN', '4.1', '159', '19M', '10,000+', 'Free', '0', 'Everyone', 'Art & Design', 'January 7, 2018', '1.0.0', '4.0.3 and up']\n",
      "\n",
      "\n",
      "['U Launcher Lite – FREE Live Cool Themes, Hide Apps', 'ART_AND_DESIGN', '4.7', '87510', '8.7M', '5,000,000+', 'Free', '0', 'Everyone', 'Art & Design', 'August 1, 2018', '1.2.4', '4.0.3 and up']\n",
      "\n",
      "\n",
      "['Sketch - Draw & Paint', 'ART_AND_DESIGN', '4.5', '215644', '25M', '50,000,000+', 'Free', '0', 'Teen', 'Art & Design', 'June 8, 2018', 'Varies with device', '4.2 and up']\n",
      "\n",
      "\n",
      "Number of rows: 9614\n",
      "Number of columns: 13\n",
      "\n",
      "\n",
      "['284882215', 'Facebook', '389879808', 'USD', '0.0', '2974676', '212', '3.5', '3.5', '95.0', '4+', 'Social Networking', '37', '1', '29', '1']\n",
      "\n",
      "\n",
      "['389801252', 'Instagram', '113954816', 'USD', '0.0', '2161558', '1289', '4.5', '4.0', '10.23', '12+', 'Photo & Video', '37', '0', '29', '1']\n",
      "\n",
      "\n",
      "['529479190', 'Clash of Clans', '116476928', 'USD', '0.0', '2130805', '579', '4.5', '4.5', '9.24.12', '9+', 'Games', '38', '5', '18', '1']\n",
      "\n",
      "\n",
      "Number of rows: 6183\n",
      "Number of columns: 16\n"
     ]
    }
   ],
   "source": [
    "#Filtering the data sets with English function\n",
    "\n",
    "google_eng = []\n",
    "apple_eng = []\n",
    "\n",
    "for app in android_clean:\n",
    "    name = app[0]\n",
    "    \n",
    "    if English(name) == True:\n",
    "        google_eng.append(app)\n",
    "\n",
    "for app in apple_data:\n",
    "    name = app[1]\n",
    "    \n",
    "    if English(name) == True:\n",
    "        apple_eng.append(app)\n",
    "\n",
    "#Exploring to see how many remaining rows are left\n",
    "\n",
    "explore_data(google_eng,0,3,True)\n",
    "print('\\n')\n",
    "explore_data(apple_eng, 0,3,True)"
   ]
  },
  {
   "cell_type": "markdown",
   "metadata": {},
   "source": [
    "Now we have 9,614 Google Play apps and 6,183 Apple apps, all in English."
   ]
  },
  {
   "cell_type": "markdown",
   "metadata": {},
   "source": [
    "## Isolating the Free Apps\n",
    "\n",
    "We'll need to isolate the free apps from the non-free ones in order to start our analysis. We'll loop through each data set to isolate the free ones."
   ]
  },
  {
   "cell_type": "code",
   "execution_count": 82,
   "metadata": {
    "scrolled": true
   },
   "outputs": [
    {
     "name": "stdout",
     "output_type": "stream",
     "text": [
      "['Photo Editor & Candy Camera & Grid & ScrapBook', 'ART_AND_DESIGN', '4.1', '159', '19M', '10,000+', 'Free', '0', 'Everyone', 'Art & Design', 'January 7, 2018', '1.0.0', '4.0.3 and up']\n",
      "\n",
      "\n",
      "['U Launcher Lite – FREE Live Cool Themes, Hide Apps', 'ART_AND_DESIGN', '4.7', '87510', '8.7M', '5,000,000+', 'Free', '0', 'Everyone', 'Art & Design', 'August 1, 2018', '1.2.4', '4.0.3 and up']\n",
      "\n",
      "\n",
      "['Sketch - Draw & Paint', 'ART_AND_DESIGN', '4.5', '215644', '25M', '50,000,000+', 'Free', '0', 'Teen', 'Art & Design', 'June 8, 2018', 'Varies with device', '4.2 and up']\n",
      "\n",
      "\n",
      "Number of rows: 8864\n",
      "Number of columns: 13\n",
      "\n",
      "\n",
      "['284882215', 'Facebook', '389879808', 'USD', '0.0', '2974676', '212', '3.5', '3.5', '95.0', '4+', 'Social Networking', '37', '1', '29', '1']\n",
      "\n",
      "\n",
      "['389801252', 'Instagram', '113954816', 'USD', '0.0', '2161558', '1289', '4.5', '4.0', '10.23', '12+', 'Photo & Video', '37', '0', '29', '1']\n",
      "\n",
      "\n",
      "['529479190', 'Clash of Clans', '116476928', 'USD', '0.0', '2130805', '579', '4.5', '4.5', '9.24.12', '9+', 'Games', '38', '5', '18', '1']\n",
      "\n",
      "\n",
      "Number of rows: 3222\n",
      "Number of columns: 16\n"
     ]
    }
   ],
   "source": [
    "google_free = []\n",
    "apple_free = []\n",
    "\n",
    "for app in google_eng:\n",
    "    price = app[7]\n",
    "    \n",
    "    if price == '0':\n",
    "        google_free.append(app)\n",
    "\n",
    "for app in apple_eng:\n",
    "    price = app[4]\n",
    "    \n",
    "    if price == '0.0':\n",
    "        apple_free.append(app)\n",
    "\n",
    "explore_data(google_free,0,3,True)\n",
    "print('\\n')\n",
    "explore_data(apple_free,0,3,True)"
   ]
  },
  {
   "cell_type": "markdown",
   "metadata": {},
   "source": [
    "Our final data sets have 8864 Google Play apps and 3222 Apple apps."
   ]
  },
  {
   "cell_type": "markdown",
   "metadata": {},
   "source": [
    "## Most Common Apps by Genre\n",
    "### Part One"
   ]
  },
  {
   "cell_type": "markdown",
   "metadata": {},
   "source": [
    "As said in the introduction, we'd like to figure out the types of apps that attract the most users since our revenue is influenced by how many people are using our apps.\n",
    "\n",
    "We'll use this validation strategy for app ideas:\n",
    "    1. Build a Android version of the app and publish it on Google Play.\n",
    "    2. If the app gets a large response, we'll develop further.\n",
    "    3. After six months, if the app is profitable, we'll build an iOS version of the app and publish it on the App Store.\n",
    "\n",
    "Since we want the app on both Google Play and the App Store, we want to find successful app profiles on both markets. To do this we'll generate frequency tables to find out what the most common genres in each market, referring to the `prime-genre` column in the Apple data set and the `Genres` and `Category` columns in the  Google data set. "
   ]
  },
  {
   "cell_type": "markdown",
   "metadata": {},
   "source": [
    "### Part Two"
   ]
  },
  {
   "cell_type": "code",
   "execution_count": 83,
   "metadata": {},
   "outputs": [],
   "source": [
    "#Function to generate frequency tables that show percentage\n",
    "def freq_table(dataset, index):\n",
    "    freq_dict = {}\n",
    "    total = 0\n",
    "    \n",
    "    for row in dataset:\n",
    "        total += 1\n",
    "        value = row[index]\n",
    "\n",
    "        if value in freq_dict:\n",
    "            freq_dict[value] += 1\n",
    "        else:\n",
    "            freq_dict[value] = 1\n",
    "    \n",
    "    freq_percentage = {}\n",
    "    \n",
    "    for key in freq_dict:\n",
    "        percent = (freq_dict[key] / total) * 100\n",
    "        freq_percentage[key] = percent\n",
    "        \n",
    "    return freq_percentage\n",
    "     \n",
    "#Function that displays those percentages in descending order\n",
    "def display_table(dataset, index):\n",
    "    table = freq_table(dataset, index)\n",
    "    table_display = []\n",
    "    \n",
    "    for key in table:\n",
    "        key_val_as_tuple = (table[key], key)\n",
    "        table_display.append(key_val_as_tuple)\n",
    "\n",
    "    table_sorted = sorted(table_display, reverse = True)\n",
    "    \n",
    "    for entry in table_sorted:\n",
    "        print(entry[1], ':', entry[0])"
   ]
  },
  {
   "cell_type": "markdown",
   "metadata": {},
   "source": [
    "### Part Three"
   ]
  },
  {
   "cell_type": "code",
   "execution_count": 84,
   "metadata": {},
   "outputs": [
    {
     "name": "stdout",
     "output_type": "stream",
     "text": [
      "Games : 58.16263190564867\n",
      "Entertainment : 7.883302296710118\n",
      "Photo & Video : 4.9658597144630665\n",
      "Education : 3.662321539416512\n",
      "Social Networking : 3.2898820608317814\n",
      "Shopping : 2.60707635009311\n",
      "Utilities : 2.5139664804469275\n",
      "Sports : 2.1415270018621975\n",
      "Music : 2.0484171322160147\n",
      "Health & Fitness : 2.0173805090006205\n",
      "Productivity : 1.7380509000620732\n",
      "Lifestyle : 1.5828677839851024\n",
      "News : 1.3345747982619491\n",
      "Travel : 1.2414649286157666\n",
      "Finance : 1.1173184357541899\n",
      "Weather : 0.8690254500310366\n",
      "Food & Drink : 0.8069522036002483\n",
      "Reference : 0.5586592178770949\n",
      "Business : 0.5276225946617008\n",
      "Book : 0.4345127250155183\n",
      "Navigation : 0.186219739292365\n",
      "Medical : 0.186219739292365\n",
      "Catalogs : 0.12414649286157665\n"
     ]
    }
   ],
   "source": [
    "display_table(apple_free, -5) #prime_genre"
   ]
  },
  {
   "cell_type": "markdown",
   "metadata": {},
   "source": [
    "In the `prime_genre` column of the App Store data set, the most common genre is \"Games\" at 58.16% followed by \"Entertainment\" at 7.88%. Most of apps fall into the entertainment category (\"Photo & Video\", \"Social Networking\", etc.) while lifestyle apps (\"Productivity\", \"Health & Fitness\") fall in the middle. The general trend is Apple users mostly have entertainment apps. A successful app profile would likely be in the entertainment section; however, the frequency of the genre might not imply there's a large number of users. "
   ]
  },
  {
   "cell_type": "code",
   "execution_count": 85,
   "metadata": {},
   "outputs": [
    {
     "name": "stdout",
     "output_type": "stream",
     "text": [
      "Tools : 8.449909747292418\n",
      "Entertainment : 6.069494584837545\n",
      "Education : 5.347472924187725\n",
      "Business : 4.591606498194946\n",
      "Productivity : 3.892148014440433\n",
      "Lifestyle : 3.892148014440433\n",
      "Finance : 3.7003610108303246\n",
      "Medical : 3.531137184115524\n",
      "Sports : 3.463447653429603\n",
      "Personalization : 3.3167870036101084\n",
      "Communication : 3.2378158844765346\n",
      "Action : 3.1024368231046933\n",
      "Health & Fitness : 3.0798736462093865\n",
      "Photography : 2.944494584837545\n",
      "News & Magazines : 2.7978339350180503\n",
      "Social : 2.6624548736462095\n",
      "Travel & Local : 2.3240072202166067\n",
      "Shopping : 2.2450361010830324\n",
      "Books & Reference : 2.1435018050541514\n",
      "Simulation : 2.0419675090252705\n",
      "Dating : 1.861462093862816\n",
      "Arcade : 1.8501805054151623\n",
      "Video Players & Editors : 1.7712093862815883\n",
      "Casual : 1.7599277978339352\n",
      "Maps & Navigation : 1.3989169675090252\n",
      "Food & Drink : 1.2409747292418771\n",
      "Puzzle : 1.128158844765343\n",
      "Racing : 0.9927797833935018\n",
      "Role Playing : 0.9363718411552346\n",
      "Libraries & Demo : 0.9363718411552346\n",
      "Auto & Vehicles : 0.9250902527075812\n",
      "Strategy : 0.9138086642599278\n",
      "House & Home : 0.8235559566787004\n",
      "Weather : 0.8009927797833934\n",
      "Events : 0.7107400722021661\n",
      "Adventure : 0.6768953068592057\n",
      "Comics : 0.6092057761732852\n",
      "Beauty : 0.5979241877256317\n",
      "Art & Design : 0.5979241877256317\n",
      "Parenting : 0.4963898916967509\n",
      "Card : 0.45126353790613716\n",
      "Casino : 0.42870036101083037\n",
      "Trivia : 0.41741877256317694\n",
      "Educational;Education : 0.39485559566787\n",
      "Board : 0.3835740072202166\n",
      "Educational : 0.3722924187725632\n",
      "Education;Education : 0.33844765342960287\n",
      "Word : 0.2594765342960289\n",
      "Casual;Pretend Play : 0.236913357400722\n",
      "Music : 0.2030685920577617\n",
      "Racing;Action & Adventure : 0.16922382671480143\n",
      "Puzzle;Brain Games : 0.16922382671480143\n",
      "Entertainment;Music & Video : 0.16922382671480143\n",
      "Casual;Brain Games : 0.13537906137184114\n",
      "Casual;Action & Adventure : 0.13537906137184114\n",
      "Arcade;Action & Adventure : 0.12409747292418773\n",
      "Action;Action & Adventure : 0.10153429602888085\n",
      "Educational;Pretend Play : 0.09025270758122744\n",
      "Simulation;Action & Adventure : 0.078971119133574\n",
      "Parenting;Education : 0.078971119133574\n",
      "Entertainment;Brain Games : 0.078971119133574\n",
      "Board;Brain Games : 0.078971119133574\n",
      "Parenting;Music & Video : 0.06768953068592057\n",
      "Educational;Brain Games : 0.06768953068592057\n",
      "Casual;Creativity : 0.06768953068592057\n",
      "Art & Design;Creativity : 0.06768953068592057\n",
      "Education;Pretend Play : 0.056407942238267145\n",
      "Role Playing;Pretend Play : 0.04512635379061372\n",
      "Education;Creativity : 0.04512635379061372\n",
      "Role Playing;Action & Adventure : 0.033844765342960284\n",
      "Puzzle;Action & Adventure : 0.033844765342960284\n",
      "Entertainment;Creativity : 0.033844765342960284\n",
      "Entertainment;Action & Adventure : 0.033844765342960284\n",
      "Educational;Creativity : 0.033844765342960284\n",
      "Educational;Action & Adventure : 0.033844765342960284\n",
      "Education;Music & Video : 0.033844765342960284\n",
      "Education;Brain Games : 0.033844765342960284\n",
      "Education;Action & Adventure : 0.033844765342960284\n",
      "Adventure;Action & Adventure : 0.033844765342960284\n",
      "Video Players & Editors;Music & Video : 0.02256317689530686\n",
      "Sports;Action & Adventure : 0.02256317689530686\n",
      "Simulation;Pretend Play : 0.02256317689530686\n",
      "Puzzle;Creativity : 0.02256317689530686\n",
      "Music;Music & Video : 0.02256317689530686\n",
      "Entertainment;Pretend Play : 0.02256317689530686\n",
      "Casual;Education : 0.02256317689530686\n",
      "Board;Action & Adventure : 0.02256317689530686\n",
      "Video Players & Editors;Creativity : 0.01128158844765343\n",
      "Trivia;Education : 0.01128158844765343\n",
      "Travel & Local;Action & Adventure : 0.01128158844765343\n",
      "Tools;Education : 0.01128158844765343\n",
      "Strategy;Education : 0.01128158844765343\n",
      "Strategy;Creativity : 0.01128158844765343\n",
      "Strategy;Action & Adventure : 0.01128158844765343\n",
      "Simulation;Education : 0.01128158844765343\n",
      "Role Playing;Brain Games : 0.01128158844765343\n",
      "Racing;Pretend Play : 0.01128158844765343\n",
      "Puzzle;Education : 0.01128158844765343\n",
      "Parenting;Brain Games : 0.01128158844765343\n",
      "Music & Audio;Music & Video : 0.01128158844765343\n",
      "Lifestyle;Pretend Play : 0.01128158844765343\n",
      "Lifestyle;Education : 0.01128158844765343\n",
      "Health & Fitness;Education : 0.01128158844765343\n",
      "Health & Fitness;Action & Adventure : 0.01128158844765343\n",
      "Entertainment;Education : 0.01128158844765343\n",
      "Communication;Creativity : 0.01128158844765343\n",
      "Comics;Creativity : 0.01128158844765343\n",
      "Casual;Music & Video : 0.01128158844765343\n",
      "Card;Action & Adventure : 0.01128158844765343\n",
      "Books & Reference;Education : 0.01128158844765343\n",
      "Art & Design;Pretend Play : 0.01128158844765343\n",
      "Art & Design;Action & Adventure : 0.01128158844765343\n",
      "Arcade;Pretend Play : 0.01128158844765343\n",
      "Adventure;Education : 0.01128158844765343\n"
     ]
    }
   ],
   "source": [
    "display_table(google_free, -4) #Genres"
   ]
  },
  {
   "cell_type": "markdown",
   "metadata": {},
   "source": [
    "For the `Genres` column, the most common genres are \"Tools\" at 8.45%, \"Entertainment\" at 6.07%, and \"Education\" at 5.35%. Compared to the App Store, where most of the apps are designed for fun, the Google Play market is more balanced, with both productivity and fun apps. Near the bottom of the list, most of the multiple genre apps are labeled as \"Education\". The abundance of this label may be explained in the Category table below."
   ]
  },
  {
   "cell_type": "code",
   "execution_count": 86,
   "metadata": {
    "scrolled": true
   },
   "outputs": [
    {
     "name": "stdout",
     "output_type": "stream",
     "text": [
      "FAMILY : 18.907942238267147\n",
      "GAME : 9.724729241877256\n",
      "TOOLS : 8.461191335740072\n",
      "BUSINESS : 4.591606498194946\n",
      "LIFESTYLE : 3.9034296028880866\n",
      "PRODUCTIVITY : 3.892148014440433\n",
      "FINANCE : 3.7003610108303246\n",
      "MEDICAL : 3.531137184115524\n",
      "SPORTS : 3.395758122743682\n",
      "PERSONALIZATION : 3.3167870036101084\n",
      "COMMUNICATION : 3.2378158844765346\n",
      "HEALTH_AND_FITNESS : 3.0798736462093865\n",
      "PHOTOGRAPHY : 2.944494584837545\n",
      "NEWS_AND_MAGAZINES : 2.7978339350180503\n",
      "SOCIAL : 2.6624548736462095\n",
      "TRAVEL_AND_LOCAL : 2.33528880866426\n",
      "SHOPPING : 2.2450361010830324\n",
      "BOOKS_AND_REFERENCE : 2.1435018050541514\n",
      "DATING : 1.861462093862816\n",
      "VIDEO_PLAYERS : 1.7937725631768955\n",
      "MAPS_AND_NAVIGATION : 1.3989169675090252\n",
      "FOOD_AND_DRINK : 1.2409747292418771\n",
      "EDUCATION : 1.1620036101083033\n",
      "ENTERTAINMENT : 0.9589350180505415\n",
      "LIBRARIES_AND_DEMO : 0.9363718411552346\n",
      "AUTO_AND_VEHICLES : 0.9250902527075812\n",
      "HOUSE_AND_HOME : 0.8235559566787004\n",
      "WEATHER : 0.8009927797833934\n",
      "EVENTS : 0.7107400722021661\n",
      "PARENTING : 0.6543321299638989\n",
      "ART_AND_DESIGN : 0.6430505415162455\n",
      "COMICS : 0.6204873646209386\n",
      "BEAUTY : 0.5979241877256317\n"
     ]
    }
   ],
   "source": [
    "display_table(google_free, 1) #Category"
   ]
  },
  {
   "cell_type": "markdown",
   "metadata": {},
   "source": [
    "The `Category` column gives a better breakdown of how the apps are grouped. We see the \"Family\" category is much larger than the others at 18.91%, followed by \"Game\" at 9.72% and \"Tools\" at 8.46%. Below we see that most of the apps in the Family section are for children and focused on education. Apps in the Family category with a focus on education seems to be the most successful profile."
   ]
  },
  {
   "cell_type": "markdown",
   "metadata": {},
   "source": [
    "![Family Category](http://localhost:8888/files/OneDrive/Projects/app-store-project/Google_Play_Family.png)"
   ]
  },
  {
   "cell_type": "markdown",
   "metadata": {},
   "source": [
    "## Most Popular Apps by Genre \n",
    "### The App Store"
   ]
  },
  {
   "cell_type": "markdown",
   "metadata": {},
   "source": [
    "We've seen the App Store is full of fun apps for entertainment, while the Google Play store is more balanced with both fun and entertainment. We'd like to find out which genres have the most users. In the Google Play data set, this information is in the `Installs` column, but there is no similar data in the App Store data set. Instead, we'll use the total number of user ratings, found in `rating_count_tot`, as a substitute. To start, we'll calulate the average number of user ratings per app genre."
   ]
  },
  {
   "cell_type": "code",
   "execution_count": 87,
   "metadata": {},
   "outputs": [
    {
     "name": "stdout",
     "output_type": "stream",
     "text": [
      "Social Networking: 71548.34905660378\n",
      "Photo & Video: 28441.54375\n",
      "Games: 22788.6696905016\n",
      "Music: 57326.530303030304\n",
      "Reference: 74942.11111111111\n",
      "Health & Fitness: 23298.015384615384\n",
      "Weather: 52279.892857142855\n",
      "Utilities: 18684.456790123455\n",
      "Travel: 28243.8\n",
      "Shopping: 26919.690476190477\n",
      "News: 21248.023255813954\n",
      "Navigation: 86090.33333333333\n",
      "Lifestyle: 16485.764705882353\n",
      "Entertainment: 14029.830708661417\n",
      "Food & Drink: 33333.92307692308\n",
      "Sports: 23008.898550724636\n",
      "Book: 39758.5\n",
      "Finance: 31467.944444444445\n",
      "Education: 7003.983050847458\n",
      "Productivity: 21028.410714285714\n",
      "Business: 7491.117647058823\n",
      "Catalogs: 4004.0\n",
      "Medical: 612.0\n"
     ]
    }
   ],
   "source": [
    "prime_genre_freq = freq_table(apple_free, -5) #prime_genre\n",
    "\n",
    "for genre in prime_genre_freq:\n",
    "    total = 0 #sum of the number of user ratings\n",
    "    len_genre = 0 #number of apps specific to each genre\n",
    "    \n",
    "    for app in apple_free:\n",
    "        genre_app = app[-5]\n",
    "        if genre_app == genre:\n",
    "            user_ratings_tot = float(app[5])\n",
    "            total += user_ratings_tot\n",
    "            len_genre += 1\n",
    "    \n",
    "    user_ratings_avg = total / len_genre\n",
    "    print(genre + ':', user_ratings_avg)"
   ]
  },
  {
   "cell_type": "markdown",
   "metadata": {},
   "source": [
    "Looking at the results, we see that the `Navigation` genre has the highest average number of total user reviews. Waze and Google Maps skew the total with their review numbers being much higher than the others. This imbalance doesn't allow for an equal representation of the available applications."
   ]
  },
  {
   "cell_type": "code",
   "execution_count": 88,
   "metadata": {},
   "outputs": [
    {
     "name": "stdout",
     "output_type": "stream",
     "text": [
      "Waze - GPS Navigation, Maps & Real-time Traffic: 345046.0\n",
      "Google Maps - Navigation & Transit: 154911.0\n",
      "Geocaching®: 12811.0\n",
      "CoPilot GPS – Car Navigation & Offline Maps: 3582.0\n",
      "ImmobilienScout24: Real Estate Search in Germany: 187.0\n",
      "Railway Route Search: 5.0\n"
     ]
    }
   ],
   "source": [
    "for app in apple_free:\n",
    "    name = app[1]\n",
    "    total_ratings = float(app[5])\n",
    "    if app[-5] == 'Navigation':\n",
    "        print(name + ':', total_ratings) "
   ]
  },
  {
   "cell_type": "markdown",
   "metadata": {},
   "source": [
    "Given we found the most common genres in the App Store were about fun and entertainment, let's look through the \"Social Networking\" genre:"
   ]
  },
  {
   "cell_type": "code",
   "execution_count": 89,
   "metadata": {},
   "outputs": [
    {
     "name": "stdout",
     "output_type": "stream",
     "text": [
      "Facebook: 2974676.0\n",
      "Pinterest: 1061624.0\n",
      "Skype for iPhone: 373519.0\n",
      "Messenger: 351466.0\n",
      "Tumblr: 334293.0\n",
      "WhatsApp Messenger: 287589.0\n",
      "Kik: 260965.0\n",
      "ooVoo – Free Video Call, Text and Voice: 177501.0\n",
      "TextNow - Unlimited Text + Calls: 164963.0\n",
      "Viber Messenger – Text & Call: 164249.0\n",
      "Followers - Social Analytics For Instagram: 112778.0\n",
      "MeetMe - Chat and Meet New People: 97072.0\n",
      "We Heart It - Fashion, wallpapers, quotes, tattoos: 90414.0\n",
      "InsTrack for Instagram - Analytics Plus More: 85535.0\n",
      "Tango - Free Video Call, Voice and Chat: 75412.0\n",
      "LinkedIn: 71856.0\n",
      "Match™ - #1 Dating App.: 60659.0\n",
      "Skype for iPad: 60163.0\n",
      "POF - Best Dating App for Conversations: 52642.0\n",
      "Timehop: 49510.0\n",
      "Find My Family, Friends & iPhone - Life360 Locator: 43877.0\n",
      "Whisper - Share, Express, Meet: 39819.0\n",
      "Hangouts: 36404.0\n",
      "LINE PLAY - Your Avatar World: 34677.0\n",
      "WeChat: 34584.0\n",
      "Badoo - Meet New People, Chat, Socialize.: 34428.0\n",
      "Followers + for Instagram - Follower Analytics: 28633.0\n",
      "GroupMe: 28260.0\n",
      "Marco Polo Video Walkie Talkie: 27662.0\n",
      "Miitomo: 23965.0\n",
      "SimSimi: 23530.0\n",
      "Grindr - Gay and same sex guys chat, meet and date: 23201.0\n",
      "Wishbone - Compare Anything: 20649.0\n",
      "imo video calls and chat: 18841.0\n",
      "After School - Funny Anonymous School News: 18482.0\n",
      "Quick Reposter - Repost, Regram and Reshare Photos: 17694.0\n",
      "Weibo HD: 16772.0\n",
      "Repost for Instagram: 15185.0\n",
      "Live.me – Live Video Chat & Make Friends Nearby: 14724.0\n",
      "Nextdoor: 14402.0\n",
      "Followers Analytics for Instagram - InstaReport: 13914.0\n",
      "YouNow: Live Stream Video Chat: 12079.0\n",
      "FollowMeter for Instagram - Followers Tracking: 11976.0\n",
      "LINE: 11437.0\n",
      "eHarmony™ Dating App - Meet Singles: 11124.0\n",
      "Discord - Chat for Gamers: 9152.0\n",
      "QQ: 9109.0\n",
      "Telegram Messenger: 7573.0\n",
      "Weibo: 7265.0\n",
      "Periscope - Live Video Streaming Around the World: 6062.0\n",
      "Chat for Whatsapp - iPad Version: 5060.0\n",
      "QQ HD: 5058.0\n",
      "Followers Analysis Tool For Instagram App Free: 4253.0\n",
      "live.ly - live video streaming: 4145.0\n",
      "Houseparty - Group Video Chat: 3991.0\n",
      "SOMA Messenger: 3232.0\n",
      "Monkey: 3060.0\n",
      "Down To Lunch: 2535.0\n",
      "Flinch - Video Chat Staring Contest: 2134.0\n",
      "Highrise - Your Avatar Community: 2011.0\n",
      "LOVOO - Dating Chat: 1985.0\n",
      "PlayStation®Messages: 1918.0\n",
      "BOO! - Video chat camera with filters & stickers: 1805.0\n",
      "Qzone: 1649.0\n",
      "Chatous - Chat with new people: 1609.0\n",
      "Kiwi - Q&A: 1538.0\n",
      "GhostCodes - a discovery app for Snapchat: 1313.0\n",
      "Jodel: 1193.0\n",
      "FireChat: 1037.0\n",
      "Google Duo - simple video calling: 1033.0\n",
      "Fiesta by Tango - Chat & Meet New People: 885.0\n",
      "Google Allo — smart messaging: 862.0\n",
      "Peach — share vividly: 727.0\n",
      "Hey! VINA - Where Women Meet New Friends: 719.0\n",
      "Battlefield™ Companion: 689.0\n",
      "All Devices for WhatsApp - Messenger for iPad: 682.0\n",
      "Chat for Pokemon Go - GoChat: 500.0\n",
      "IAmNaughty – Dating App to Meet New People Online: 463.0\n",
      "Qzone HD: 458.0\n",
      "Zenly - Locate your friends in realtime: 427.0\n",
      "League of Legends Friends: 420.0\n",
      "豆瓣: 407.0\n",
      "Candid - Speak Your Mind Freely: 398.0\n",
      "知乎: 397.0\n",
      "Selfeo: 366.0\n",
      "Fake-A-Location Free ™: 354.0\n",
      "Popcorn Buzz - Free Group Calls: 281.0\n",
      "Fam — Group video calling for iMessage: 279.0\n",
      "QQ International: 274.0\n",
      "Ameba: 269.0\n",
      "SoundCloud Pulse: for creators: 240.0\n",
      "Tantan: 235.0\n",
      "Cougar Dating & Life Style App for Mature Women: 213.0\n",
      "Rawr Messenger - Dab your chat: 180.0\n",
      "WhenToPost: Best Time to Post Photos for Instagram: 158.0\n",
      "Inke—Broadcast an amazing life: 147.0\n",
      "Mustknow - anonymous video Q&A: 53.0\n",
      "CTFxCmoji: 39.0\n",
      "Lobi: 36.0\n",
      "Chain: Collaborate On MyVideo Story/Group Video: 35.0\n",
      "botman - Real time video chat: 7.0\n"
     ]
    }
   ],
   "source": [
    "for app in apple_free:\n",
    "    name = app[1]\n",
    "    total_ratings = float(app[5])\n",
    "    if app[-5] == 'Social Networking' and total_ratings > 0:\n",
    "        print(name + ':', total_ratings) "
   ]
  },
  {
   "cell_type": "markdown",
   "metadata": {},
   "source": [
    "Again, known popular app giants like Facebook and Tumblr dominate the results with review numbers over 100,000+. Smaller social apps struggle to compete in this market, each averaging around 300 to 500 reviews. Creating a social application in the `Social Networking` genre and getting it to be profitable will be a challenge. `Utilities` has on average 18,684 total reviews but the apps in this genre seem to be more balanced. "
   ]
  },
  {
   "cell_type": "code",
   "execution_count": 90,
   "metadata": {},
   "outputs": [
    {
     "name": "stdout",
     "output_type": "stream",
     "text": [
      "Google – Search made just for mobile: 479440.0\n",
      "Flashlight Ⓞ: 130450.0\n",
      "My Verizon: 126948.0\n",
      "myAT&T: 108507.0\n",
      "The Calculator - Free and Easy Calculating!: 99244.0\n",
      "Speedtest by Ookla: 65016.0\n",
      "Google Chrome – The Fast and Secure Web Browser: 55750.0\n",
      "Alarm Clock HD Free - Digital Alarm Clock Display: 54496.0\n",
      "Calculator Pro for iPad Free - Smart Calculator: 47803.0\n",
      "Bitmoji - Your Personal Emoji: 37972.0\n",
      "Calculator‰: 36879.0\n",
      "Flashlight ！: 35769.0\n",
      "Truecaller - Spam Identification & Block: 27791.0\n",
      "Browser and File Manager for Documents: 27750.0\n",
      "Flashlight for iPhone , iPod and iPad: 26697.0\n",
      "RainbowKey - Color keyboard themes, fonts & GIF: 23063.0\n",
      "Calculator HD Free: 14986.0\n",
      "QR Reader for iPhone: 12683.0\n",
      "Puffin Web Browser: 11677.0\n",
      "Evolution Calculator - CP & XP - for Pokemon GO!: 9269.0\n",
      "Gboard — a new keyboard from Google: 8873.0\n",
      "Free QR Code Reader & Barcode Scanner for iPhone: 7343.0\n",
      "GIF Keyboard: 5979.0\n",
      "Alarm Clock for Me - Best Wake Up Music & Clock: 4959.0\n",
      "Quick Scan - QR Code Reader: 4783.0\n",
      "Voice Recorder (FREE): 4640.0\n",
      "Emoji Keyboard for Me - Free Emoji Keyboard Themes: 4162.0\n",
      "Calculator for iPad Free.: 4021.0\n",
      "Scanbot - Scanner App & Fax: 3936.0\n",
      "Word Flow Keyboard - GIF, swipe, custom theme: 3213.0\n",
      "AT&T Mobile Transfer - Free: 3024.0\n",
      "Lookout: Security and Identity Theft Protection: 2661.0\n",
      "Firefox web browser: 2619.0\n",
      "My Sprint Mobile: 2238.0\n",
      "Google Authenticator: 1652.0\n",
      "VPN SecureLine - privacy & security by Avast: 1534.0\n",
      "Instant Repost for Instagram-Stories Repost Upload: 1528.0\n",
      ". Calculator .: 1525.0\n",
      "QR Code Reader by Scan: 1452.0\n",
      "QR Reader for iPad: 1341.0\n",
      "Sleep Talk Recorder: 1110.0\n",
      "The Rock Clock™: 951.0\n",
      "Peel Smart Remote: TV guide & Universal Remote: 756.0\n",
      "Themeboard: 704.0\n",
      "Onion Browser - Secure & Anonymous Web with Tor: 691.0\n",
      "ThemeOut: 612.0\n",
      "PokéFind - IV & CP Calculator and Map for Poké GO: 591.0\n",
      "TestFlight: 538.0\n",
      "Firefox Focus: The privacy browser: 477.0\n",
      "Apple Support: 388.0\n",
      "Wonder Keyboard: Sound Smart & Funny with AI: 375.0\n",
      "Giffage – The GIF Keyboard for GIFs: 315.0\n",
      "Social Picket - Stalker & Spy for Instagram: 285.0\n",
      "QQ邮箱: 281.0\n",
      "Poke Map Realtime Locator & Radar for Pokémon Go: 243.0\n",
      "Moji Edit- Your Custom Emoji Avatar Face: 238.0\n",
      "DurantEmoji by Kevin Durant: 200.0\n",
      "Bitauto Autoprice: 157.0\n",
      "GIPHY KEYS. The GIF Keyboard: 138.0\n",
      "ZaZa Remote-Universal Remote Control: 83.0\n",
      "My Boost: 83.0\n",
      "UC浏览器HD: 78.0\n",
      "Copy My Data: 72.0\n",
      "QQ邮箱HD: 55.0\n",
      "Virginia Tech Emoji: 50.0\n",
      "Jordan Keyboard: 49.0\n",
      "Simeji - Japanese Keyboard with Emoticons: 49.0\n",
      "MY EE: 43.0\n",
      "Helper for Pokemon Go: 42.0\n",
      "PIN Genie Vault – Secret photo album & Password: 34.0\n",
      "GoldenMoji - Golden Retriever Emojis: 27.0\n",
      "Laurie Hernandez the Human Emoji: 26.0\n",
      "SFR Mon Compte: 19.0\n",
      "My Vodafone: 8.0\n",
      "Hugsafe Petracker: 0.0\n",
      "TownWiFi - WiFi Everywhere: 0.0\n",
      "Caf - Mon Compte: 0.0\n",
      "U Compass ( North, South, East and West ): 0.0\n",
      "Wi-Fiミレル: 0.0\n",
      "TransParent Compass: 0.0\n",
      "My au: 0.0\n"
     ]
    }
   ],
   "source": [
    "for app in apple_free:\n",
    "    name = app[1]\n",
    "    total_ratings = float(app[5])\n",
    "    if app[-5] == 'Utilities':\n",
    "        print(name + ':', total_ratings) "
   ]
  },
  {
   "cell_type": "markdown",
   "metadata": {},
   "source": [
    "The `Utilities`genre looks a little more promising. Although the Google app holds the top spot, for most phones, most of these apps are already built-in. A lot of them are calculators, flashlights, or keyboard theme apps; they likely have extra features that make it worthwhile for users to download them.\n",
    "\n",
    "One app idea could be a basic PDF reader and scanner. For downloaded PDFs, we could automatically create a table of contents based on the pages, and the user could modify and add bookmarks. There would also be pencil tools to edit. The scanner would need access to the camera, and the quality would only be as good as the phone camera itself. A small toolbar would have searching (for words and phrases), pencils, and the table of contents, along with a page by page scroll.\n",
    "\n",
    "Since the App Store has mostly fun and social apps, an apps for tools could be succesful. It also fits in with the Google Play Store frequency table, where the popular genres and categories are mostly productivity applications.\n",
    "\n",
    "Let's look at the most popular apps by genre for the Google Play Store"
   ]
  }
 ],
 "metadata": {
  "kernelspec": {
   "display_name": "Python 3",
   "language": "python",
   "name": "python3"
  },
  "language_info": {
   "codemirror_mode": {
    "name": "ipython",
    "version": 3
   },
   "file_extension": ".py",
   "mimetype": "text/x-python",
   "name": "python",
   "nbconvert_exporter": "python",
   "pygments_lexer": "ipython3",
   "version": "3.7.4"
  }
 },
 "nbformat": 4,
 "nbformat_minor": 2
}
