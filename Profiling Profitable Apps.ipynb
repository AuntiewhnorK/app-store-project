{
 "cells": [
  {
   "cell_type": "markdown",
   "metadata": {},
   "source": [
    "# Introduction\n",
    "\n",
    "This project is about analyzing app data from Google Play and Apple App stores. We'll pretend we're data analysts working for a company building Android and iOS apps. Our company only build apps that are free, and revenue comes from in-app ads. \n",
    "\n",
    "The goal is to use Python and Jupyter Notebook to profile the most profitable apps on the Google Play and Apple App stores Going through the data will help our developers understand what types of apps users gravitate towards.\n",
    "\n",
    "The data for [Google Play][1] and [Apple App Store][2] can be downloaded at Kaggle.\n",
    "\n",
    "[1]:https://www.kaggle.com/lava18/google-play-store-apps\n",
    "[2]:https://www.kaggle.com/ramamet4/app-store-apple-data-set-10k-apps"
   ]
  },
  {
   "cell_type": "markdown",
   "metadata": {},
   "source": [
    "## Opening and Exploring the Data\n",
    "\n",
    "First we open the files and give them corresponding variable names. The header column is separated from the data for quick access. Here we will use the `explore_data()` function for exploration. It prints the rows in the list so they're readable, and finds the number of rows and columns if `rows_and_columns` is `True`. It assumes the input dataset doesn't have a header row.\n",
    "\n",
    "The first few rows of each data set are printed along with the number of rows and columns. We also try and identify some columns that could help with our analysis."
   ]
  },
  {
   "cell_type": "code",
   "execution_count": null,
   "metadata": {},
   "outputs": [],
   "source": [
    "from csv import reader\n",
    "\n",
    "#Open .csv files\n",
    "file1 = open(\"AppleStore.csv\", encoding='utf8')\n",
    "file2 = open(\"googleplaystore.csv\", encoding='utf8')\n",
    "\n",
    "apple_file = reader(file1)\n",
    "apple_apps_data = list(apple_file) #lists of list\n",
    "\n",
    "google_file = reader(file2)\n",
    "google_apps_data = list(google_file)"
   ]
  },
  {
   "cell_type": "code",
   "execution_count": null,
   "metadata": {},
   "outputs": [],
   "source": [
    "#Separating the header from the data set \n",
    "apple_head = apple_apps_data[0]\n",
    "apple_data = apple_apps_data[1:]\n",
    "\n",
    "google_head = google_apps_data[0]\n",
    "google_data = google_apps_data[1:]\n",
    "\n",
    "def explore_data(dataset, start, end, rows_and_columns=False):\n",
    "    dataset_slice = dataset[start:end]\n",
    "    for row in dataset_slice:\n",
    "        print(row)\n",
    "        print('\\n') # new empty line for separation\n",
    "        \n",
    "    if rows_and_columns:\n",
    "        print(\"Number of rows:\", len(dataset))\n",
    "        print(\"Number of columns:\", len(dataset[0]))\n",
    "\n",
    "#First few rows\n",
    "#print(\"Apple Rows\")\n",
    "#explore_data(apple_data, 1, 3, True)\n",
    "#print('\\n')\n",
    "#print(\"Google Rows\")\n",
    "#explore_data(google_data, 1, 3, True)"
   ]
  },
  {
   "cell_type": "code",
   "execution_count": null,
   "metadata": {},
   "outputs": [],
   "source": [
    "#Exploring Columns\n",
    "print(apple_head, '\\n')\n",
    "print(google_head, '\\n')"
   ]
  },
  {
   "cell_type": "markdown",
   "metadata": {},
   "source": [
    "The columns we could use need to be related to price (we develop free apps only) and the user ratings for the app. They're detailed in two tables here:\n",
    "\n",
    "| Google Column Name | Description |\n",
    "|:-----------:|:------------:|\n",
    "| 'Rating' | User rating of the app |\n",
    "| 'Installs' | Number of downloads |\n",
    "| 'Price' | Price of the App |\n",
    "| 'Type' | Whether an app is paid or free |\n",
    "\n",
    "| Apple Column Name | Description |\n",
    "|:---------:|:---------:|\n",
    "| 'user_rating' | Average user rating (for all version) |\n",
    "| 'user_rating_ver' | Average user rating (for current version) |\n",
    "| 'Price' | Price of the app |"
   ]
  }
 ],
 "metadata": {
  "kernelspec": {
   "display_name": "Python 3",
   "language": "python",
   "name": "python3"
  },
  "language_info": {
   "codemirror_mode": {
    "name": "ipython",
    "version": 3
   },
   "file_extension": ".py",
   "mimetype": "text/x-python",
   "name": "python",
   "nbconvert_exporter": "python",
   "pygments_lexer": "ipython3",
   "version": "3.7.2"
  }
 },
 "nbformat": 4,
 "nbformat_minor": 2
}
